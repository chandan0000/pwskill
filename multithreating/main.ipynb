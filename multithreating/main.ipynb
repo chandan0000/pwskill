{
 "cells": [
  {
   "cell_type": "code",
   "execution_count": 69,
   "metadata": {},
   "outputs": [],
   "source": [
    "import threading"
   ]
  },
  {
   "cell_type": "code",
   "execution_count": 70,
   "metadata": {},
   "outputs": [],
   "source": [
    "def test(id):\n",
    "    print(\"program start %d\"%id)"
   ]
  },
  {
   "cell_type": "code",
   "execution_count": 71,
   "metadata": {},
   "outputs": [
    {
     "name": "stdout",
     "output_type": "stream",
     "text": [
      "program start 45\n"
     ]
    }
   ],
   "source": [
    "test(45)"
   ]
  },
  {
   "cell_type": "code",
   "execution_count": 72,
   "metadata": {},
   "outputs": [],
   "source": [
    "thread = [threading.Thread(target=test , args=(i,) )for i in range(10)]"
   ]
  },
  {
   "cell_type": "code",
   "execution_count": 73,
   "metadata": {},
   "outputs": [
    {
     "name": "stdout",
     "output_type": "stream",
     "text": [
      "program start 0\n",
      "program start 1\n",
      "program start 2\n",
      "program start 3\n",
      "program start 4\n",
      "program start 5\n",
      "program start 6\n",
      "program start 7\n",
      "program start 8\n",
      "program start 9\n"
     ]
    }
   ],
   "source": [
    "for i in thread:\n",
    "    i.start()\n"
   ]
  },
  {
   "cell_type": "code",
   "execution_count": 74,
   "metadata": {},
   "outputs": [
    {
     "data": {
      "text/plain": [
       "[<Thread(Thread-39 (test), stopped 19760)>,\n",
       " <Thread(Thread-40 (test), stopped 672)>,\n",
       " <Thread(Thread-41 (test), stopped 19344)>,\n",
       " <Thread(Thread-42 (test), stopped 2744)>,\n",
       " <Thread(Thread-43 (test), stopped 21936)>,\n",
       " <Thread(Thread-44 (test), stopped 8200)>,\n",
       " <Thread(Thread-45 (test), stopped 14592)>,\n",
       " <Thread(Thread-46 (test), stopped 6276)>,\n",
       " <Thread(Thread-47 (test), stopped 6640)>,\n",
       " <Thread(Thread-48 (test), stopped 6252)>]"
      ]
     },
     "execution_count": 74,
     "metadata": {},
     "output_type": "execute_result"
    }
   ],
   "source": [
    "thread"
   ]
  },
  {
   "cell_type": "code",
   "execution_count": 75,
   "metadata": {},
   "outputs": [],
   "source": [
    "import threading\n",
    "import urllib.request\n",
    "\n",
    "def file_downlaod(url , filname) : \n",
    "    urllib.request.urlretrieve(url,filname)"
   ]
  },
  {
   "cell_type": "code",
   "execution_count": 76,
   "metadata": {},
   "outputs": [],
   "source": [
    "file_downlaod('https://raw.githubusercontent.com/itsfoss/text-files/master/agatha.txt' , \"test.txt\")"
   ]
  },
  {
   "cell_type": "code",
   "execution_count": 77,
   "metadata": {},
   "outputs": [],
   "source": [
    "url_list  = ['https://raw.githubusercontent.com/itsfoss/text-files/master/agatha.txt','https://raw.githubusercontent.com/itsfoss/text-files/master/sherlock.txt','https://raw.githubusercontent.com/itsfoss/text-files/master/sample_log_file.txt']"
   ]
  },
  {
   "cell_type": "code",
   "execution_count": 78,
   "metadata": {},
   "outputs": [
    {
     "data": {
      "text/plain": [
       "['https://raw.githubusercontent.com/itsfoss/text-files/master/agatha.txt',\n",
       " 'https://raw.githubusercontent.com/itsfoss/text-files/master/sherlock.txt',\n",
       " 'https://raw.githubusercontent.com/itsfoss/text-files/master/sample_log_file.txt']"
      ]
     },
     "execution_count": 78,
     "metadata": {},
     "output_type": "execute_result"
    }
   ],
   "source": [
    "url_list"
   ]
  },
  {
   "cell_type": "code",
   "execution_count": 79,
   "metadata": {},
   "outputs": [],
   "source": [
    "file_name_list = ['data1.txt' , 'data2.txt' , 'data3.txt']"
   ]
  },
  {
   "cell_type": "code",
   "execution_count": 80,
   "metadata": {},
   "outputs": [
    {
     "ename": "SyntaxError",
     "evalue": "invalid syntax. Perhaps you forgot a comma? (235274474.py, line 1)",
     "output_type": "error",
     "traceback": [
      "\u001b[1;36m  Cell \u001b[1;32mIn[80], line 1\u001b[1;36m\u001b[0m\n\u001b[1;33m    ther = [threading.Thread(target=file_downlaod , args = (url_list[i] a, file_name_list[i]) ) for i in range(len(url_list))]\u001b[0m\n\u001b[1;37m                                                            ^\u001b[0m\n\u001b[1;31mSyntaxError\u001b[0m\u001b[1;31m:\u001b[0m invalid syntax. Perhaps you forgot a comma?\n"
     ]
    }
   ],
   "source": [
    "ther = [threading.Thread(target=file_downlaod , args = (url_list[i] a, file_name_list[i]) ) for i in range(len(url_list))]"
   ]
  },
  {
   "cell_type": "code",
   "execution_count": null,
   "metadata": {},
   "outputs": [],
   "source": []
  },
  {
   "cell_type": "code",
   "execution_count": null,
   "metadata": {},
   "outputs": [],
   "source": []
  },
  {
   "cell_type": "code",
   "execution_count": null,
   "metadata": {},
   "outputs": [],
   "source": [
    "import time"
   ]
  },
  {
   "cell_type": "code",
   "execution_count": null,
   "metadata": {},
   "outputs": [],
   "source": [
    "def test1(id):\n",
    "    for i in range(10):\n",
    "        print(\"test1 %d printing %d\"%(id,i))\n",
    "        time.sleep(1)"
   ]
  },
  {
   "cell_type": "code",
   "execution_count": null,
   "metadata": {},
   "outputs": [],
   "source": [
    "thread1=[threading.Thread(target=test1,args=(i,)) for i in range(3)]"
   ]
  },
  {
   "cell_type": "code",
   "execution_count": null,
   "metadata": {},
   "outputs": [
    {
     "data": {
      "text/plain": [
       "[<Thread(Thread-33 (test1), initial)>,\n",
       " <Thread(Thread-34 (test1), initial)>,\n",
       " <Thread(Thread-35 (test1), initial)>]"
      ]
     },
     "execution_count": 61,
     "metadata": {},
     "output_type": "execute_result"
    }
   ],
   "source": [
    "thread1"
   ]
  },
  {
   "cell_type": "code",
   "execution_count": null,
   "metadata": {},
   "outputs": [
    {
     "name": "stdout",
     "output_type": "stream",
     "text": [
      "test1 0 printing 0\n",
      "test1 1 printing 0\n",
      "test1 2 printing 0\n"
     ]
    },
    {
     "name": "stdout",
     "output_type": "stream",
     "text": [
      "test1 0 printing 1\n",
      "test1 1 printing 1\n",
      "test1 2 printing 1\n",
      "test1 0 printing 2\n",
      "test1 1 printing 2\n",
      "test1 2 printing 2\n",
      "test1 0 printing 3\n",
      "test1 1 printing 3\n",
      "test1 2 printing 3\n",
      "test1 0 printing 4\n",
      "test1 1 printing 4\n",
      "test1 2 printing 4\n",
      "test1 1 printing 5\n",
      "test1 2 printing 5\n",
      "test1 0 printing 5\n",
      "test1 1 printing 6test1 0 printing 6\n",
      "\n",
      "test1 2 printing 6\n",
      "test1 1 printing 7test1 0 printing 7\n",
      "test1 2 printing 7\n",
      "\n",
      "test1 2 printing 8\n",
      "test1 1 printing 8\n",
      "test1 0 printing 8\n",
      "test1 2 printing 9test1 1 printing 9\n",
      "\n",
      "test1 0 printing 9\n"
     ]
    }
   ],
   "source": [
    "for i in thread1:\n",
    "    i.start()"
   ]
  },
  {
   "cell_type": "code",
   "execution_count": null,
   "metadata": {},
   "outputs": [],
   "source": [
    "import time "
   ]
  },
  {
   "cell_type": "code",
   "execution_count": 81,
   "metadata": {},
   "outputs": [],
   "source": [
    "def test1(id) :\n",
    "    for i in range(10) : \n",
    "        print(\"test1 %d printing %d %s\" %(id,i,time.ctime()))\n",
    "        time.sleep(1)"
   ]
  },
  {
   "cell_type": "code",
   "execution_count": 82,
   "metadata": {},
   "outputs": [],
   "source": [
    "thread1 = [threading.Thread(target=test1 , args  = (i,)) for i in range(3)]"
   ]
  },
  {
   "cell_type": "code",
   "execution_count": 83,
   "metadata": {},
   "outputs": [
    {
     "name": "stdout",
     "output_type": "stream",
     "text": [
      "test1 0 printing 0 Tue Feb 28 10:42:35 2023test1 1 printing 0 Tue Feb 28 10:42:35 2023\n",
      "\n",
      "test1 2 printing 0 Tue Feb 28 10:42:35 2023\n"
     ]
    },
    {
     "name": "stdout",
     "output_type": "stream",
     "text": [
      "test1 0 printing 1 Tue Feb 28 10:42:36 2023test1 1 printing 1 Tue Feb 28 10:42:36 2023\n",
      "\n",
      "test1 2 printing 1 Tue Feb 28 10:42:36 2023\n",
      "test1 1 printing 2 Tue Feb 28 10:42:37 2023\n",
      "test1 2 printing 2 Tue Feb 28 10:42:37 2023\n",
      "test1 0 printing 2 Tue Feb 28 10:42:37 2023\n",
      "test1 1 printing 3 Tue Feb 28 10:42:38 2023\n",
      "test1 2 printing 3 Tue Feb 28 10:42:38 2023\n",
      "test1 0 printing 3 Tue Feb 28 10:42:38 2023\n",
      "test1 1 printing 4 Tue Feb 28 10:42:39 2023test1 2 printing 4 Tue Feb 28 10:42:39 2023\n",
      "\n",
      "test1 0 printing 4 Tue Feb 28 10:42:39 2023\n",
      "test1 2 printing 5 Tue Feb 28 10:42:40 2023\n",
      "test1 0 printing 5 Tue Feb 28 10:42:40 2023\n",
      "test1 1 printing 5 Tue Feb 28 10:42:40 2023\n",
      "test1 2 printing 6 Tue Feb 28 10:42:41 2023test1 1 printing 6 Tue Feb 28 10:42:41 2023\n",
      "\n",
      "test1 0 printing 6 Tue Feb 28 10:42:41 2023\n",
      "test1 2 printing 7 Tue Feb 28 10:42:42 2023test1 1 printing 7 Tue Feb 28 10:42:42 2023\n",
      "\n",
      "test1 0 printing 7 Tue Feb 28 10:42:42 2023\n",
      "test1 2 printing 8 Tue Feb 28 10:42:43 2023test1 0 printing 8 Tue Feb 28 10:42:43 2023\n",
      "\n",
      "test1 1 printing 8 Tue Feb 28 10:42:43 2023\n",
      "test1 2 printing 9 Tue Feb 28 10:42:44 2023test1 0 printing 9 Tue Feb 28 10:42:44 2023\n",
      "\n",
      "test1 1 printing 9 Tue Feb 28 10:42:44 2023\n"
     ]
    }
   ],
   "source": [
    "for t in thread1:\n",
    "    t.start()"
   ]
  },
  {
   "cell_type": "code",
   "execution_count": 84,
   "metadata": {},
   "outputs": [],
   "source": [
    "shared_var=0\n",
    "lock_var=threading.Lock()"
   ]
  },
  {
   "cell_type": "code",
   "execution_count": 85,
   "metadata": {},
   "outputs": [
    {
     "name": "stdout",
     "output_type": "stream",
     "text": [
      "test2 is 0 has increased the shared variable by 1 \n"
     ]
    },
    {
     "name": "stdout",
     "output_type": "stream",
     "text": [
      "test2 is 1 has increased the shared variable by 2 \n",
      "test2 is 2 has increased the shared variable by 3 \n"
     ]
    }
   ],
   "source": [
    "shared_var = 0\n",
    "lock_var = threading.Lock()\n",
    "def test2(id) : \n",
    "    global shared_var\n",
    "    with lock_var:\n",
    "        shared_var = shared_var+1\n",
    "        print(\"test2 is %d has increased the shared variable by %d \" % (id ,shared_var) )\n",
    "        time.sleep(1)\n",
    "ther3 = [threading.Thread(target=test2 , args = (i,) ) for i in range(3)]    \n",
    "for t in ther3:\n",
    "    t.start()"
   ]
  },
  {
   "cell_type": "code",
   "execution_count": 86,
   "metadata": {},
   "outputs": [
    {
     "name": "stdout",
     "output_type": "stream",
     "text": [
      "test2 is 0 has increased the shared variable by 1 \n",
      "test2 is 1 has increased the shared variable by 2 \n",
      "test2 is 2 has increased the shared variable by 3 \n"
     ]
    }
   ],
   "source": [
    "shared_var = 0\n",
    "#lock_var = threading.Lock()\n",
    "def test2(id) : \n",
    "    global shared_var\n",
    "    #with lock_var:\n",
    "    shared_var = shared_var+1\n",
    "    print(\"test2 is %d has increased the shared variable by %d \" % (id ,shared_var) )\n",
    "    time.sleep(1)\n",
    "    \n",
    "ther4 = [threading.Thread(target=test2 , args = (i,) ) for i in range(3)]    \n",
    "for t in ther4:\n",
    "    t.start()"
   ]
  },
  {
   "cell_type": "code",
   "execution_count": 87,
   "metadata": {},
   "outputs": [
    {
     "name": "stdout",
     "output_type": "stream",
     "text": [
      "test2 is 0 has increased the shared variable by 4 \n"
     ]
    }
   ],
   "source": [
    "test2(0)"
   ]
  },
  {
   "cell_type": "code",
   "execution_count": 88,
   "metadata": {},
   "outputs": [
    {
     "data": {
      "text/plain": [
       "4"
      ]
     },
     "execution_count": 88,
     "metadata": {},
     "output_type": "execute_result"
    }
   ],
   "source": [
    "shared_var"
   ]
  },
  {
   "cell_type": "code",
   "execution_count": null,
   "metadata": {},
   "outputs": [],
   "source": []
  }
 ],
 "metadata": {
  "kernelspec": {
   "display_name": "Python 3",
   "language": "python",
   "name": "python3"
  },
  "language_info": {
   "codemirror_mode": {
    "name": "ipython",
    "version": 3
   },
   "file_extension": ".py",
   "mimetype": "text/x-python",
   "name": "python",
   "nbconvert_exporter": "python",
   "pygments_lexer": "ipython3",
   "version": "3.11.1"
  },
  "orig_nbformat": 4,
  "vscode": {
   "interpreter": {
    "hash": "41cec28fd681075328d5c3ce57c3e36d2e28950cd4b5df3e126fcfc4cca87be8"
   }
  }
 },
 "nbformat": 4,
 "nbformat_minor": 2
}
